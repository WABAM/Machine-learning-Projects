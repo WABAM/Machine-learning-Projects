{
 "cells": [
  {
   "cell_type": "markdown",
   "metadata": {},
   "source": [
    "# In this project, BeautifulSoup was used in python to obtain the information  needed  to analyze price, date, rating, star_rating for iphone14 from amazon."
   ]
  },
  {
   "cell_type": "code",
   "execution_count": 1,
   "metadata": {},
   "outputs": [],
   "source": [
    "# importing libraries \n",
    "\n",
    "from bs4 import BeautifulSoup\n",
    "import requests\n",
    "import time\n",
    "import datetime\n",
    "import csv\n",
    "import pandas as pd\n",
    "import smtplib"
   ]
  },
  {
   "cell_type": "code",
   "execution_count": 2,
   "metadata": {},
   "outputs": [
    {
     "name": "stdout",
     "output_type": "stream",
     "text": [
      "\n",
      "           Apple iPhone 14 Pro (1 TB) - Space Schwarz\n",
      "          \n",
      "\n",
      "\n",
      "\n",
      "\n",
      "\n",
      "            €1,949.00\n",
      "           \n",
      "\n",
      "\n",
      "             €\n",
      "            \n",
      "\n",
      "             1,949\n",
      "             \n",
      "              .\n",
      "             \n",
      "\n",
      "\n",
      "             00\n",
      "            \n",
      "\n",
      "\n",
      "\n",
      "\n",
      "\n",
      "\n",
      "\n",
      "\n",
      "\n",
      "\n",
      "\n",
      "\n",
      "\n",
      "            587 ratings\n",
      "           \n",
      "\n",
      "\n",
      "\n",
      "\n",
      "\n",
      "               4.6 out of 5 stars\n",
      "              \n",
      "\n",
      "\n",
      "\n",
      "\n",
      "\n",
      "\n",
      "\n",
      "\n"
     ]
    }
   ],
   "source": [
    "#connecting to website to get needed data\n",
    "\n",
    "URL = 'https://www.amazon.de/Apple-iPhone-14-Pro-256/dp/B0BDJCM1SG/ref=sr_1_2_sspa?crid=2VBVM8UZB511B&keywords=iphone%2B14&qid=1664872886&qu=eyJxc2MiOiI0LjI5IiwicXNhIjoiNC4yMyIsInFzcCI6IjMuMzIifQ&sprefix=iph%2Caps%2C805&sr=8-2-spons&language=en_GB&currency=EUR&th=1'\n",
    "\n",
    "headers = {\"User-Agent\": \"Mozilla/5.0 (Windows NT 10.0; Win64; x64) AppleWebKit/537.36 (KHTML, like Gecko) Chrome/78.0.3904.108 Safari/537.36\", \"Accept-Encoding\":\"gzip, deflate\", \"Accept\":\"text/html,application/xhtml+xml,application/xml;q=0.9,*/*;q=0.8\", \"DNT\":\"1\",\"Connection\":\"close\", \"Upgrade-Insecure-Requests\":\"1\"}\n",
    "\n",
    "page = requests.get(URL, headers=headers)\n",
    "\n",
    "soup1 = BeautifulSoup(page.content, \"html.parser\")\n",
    "\n",
    "soup2 = BeautifulSoup(soup1.prettify(), \"html.parser\")\n",
    "\n",
    "product = soup2.find(id='productTitle').get_text()\n",
    "ratings = soup2.find(id = 'acrCustomerReviewText').get_text()\n",
    "\n",
    "rating_star = soup2.find(id = 'acrPopover').get_text()\n",
    "\n",
    "price = soup2.find(id='corePriceDisplay_desktop_feature_div').get_text()\n",
    "\n",
    "\n",
    "print(product)\n",
    "print(price)\n",
    "print(ratings)\n",
    "print(rating_star)\n"
   ]
  },
  {
   "cell_type": "code",
   "execution_count": 3,
   "metadata": {},
   "outputs": [
    {
     "name": "stdout",
     "output_type": "stream",
     "text": [
      "Apple iPhone 14 Pro\n",
      "1,949\n",
      "58\n",
      "4.6 \n"
     ]
    }
   ],
   "source": [
    "#indexing out the values needed\n",
    "price = price[price.index('€'):(price.index('€')) + 6]\n",
    "price = price.strip()[1:]\n",
    "product = product[product.index('A'):(product.index('('))]\n",
    "product = product.strip()\n",
    "ratings =ratings.strip()[:2]\n",
    "rating_star = rating_star.strip()[:4]\n",
    "\n",
    "\n",
    "print(product)\n",
    "print(price)\n",
    "print(ratings)\n",
    "print(rating_star)\n"
   ]
  },
  {
   "cell_type": "code",
   "execution_count": 4,
   "metadata": {},
   "outputs": [
    {
     "name": "stdout",
     "output_type": "stream",
     "text": [
      "2022-12-29\n"
     ]
    }
   ],
   "source": [
    "#checking out today's date\n",
    "today = datetime.date.today()\n",
    "print(today)\n"
   ]
  },
  {
   "cell_type": "code",
   "execution_count": 5,
   "metadata": {},
   "outputs": [],
   "source": [
    "#creating an excel file to house the data \n",
    "header = ['Product', 'Price', 'Date', 'Ratings', 'Rating_star']\n",
    "data = [product, price,today, ratings, rating_star]\n",
    "\n",
    "with open('amazoniphone14dataset.csv', 'w', newline = '', encoding = 'UTF8') as f:\n",
    "    writer =  csv.writer(f)\n",
    "    writer.writerow(header)\n",
    "    writer.writerow(data)\n"
   ]
  },
  {
   "cell_type": "code",
   "execution_count": 6,
   "metadata": {},
   "outputs": [
    {
     "data": {
      "text/html": [
       "<div>\n",
       "<style scoped>\n",
       "    .dataframe tbody tr th:only-of-type {\n",
       "        vertical-align: middle;\n",
       "    }\n",
       "\n",
       "    .dataframe tbody tr th {\n",
       "        vertical-align: top;\n",
       "    }\n",
       "\n",
       "    .dataframe thead th {\n",
       "        text-align: right;\n",
       "    }\n",
       "</style>\n",
       "<table border=\"1\" class=\"dataframe\">\n",
       "  <thead>\n",
       "    <tr style=\"text-align: right;\">\n",
       "      <th></th>\n",
       "      <th>Product</th>\n",
       "      <th>Price</th>\n",
       "      <th>Date</th>\n",
       "      <th>Ratings</th>\n",
       "      <th>Rating_star</th>\n",
       "    </tr>\n",
       "  </thead>\n",
       "  <tbody>\n",
       "    <tr>\n",
       "      <th>0</th>\n",
       "      <td>Apple iPhone 14 Pro</td>\n",
       "      <td>1,949</td>\n",
       "      <td>2022-12-29</td>\n",
       "      <td>58</td>\n",
       "      <td>4.6</td>\n",
       "    </tr>\n",
       "  </tbody>\n",
       "</table>\n",
       "</div>"
      ],
      "text/plain": [
       "               Product  Price        Date  Ratings  Rating_star\n",
       "0  Apple iPhone 14 Pro  1,949  2022-12-29       58          4.6"
      ]
     },
     "execution_count": 6,
     "metadata": {},
     "output_type": "execute_result"
    }
   ],
   "source": [
    "#importing and viewing the data as a dataframe\n",
    "df = pd.read_csv('amazoniphone14dataset.csv')\n",
    "df\n",
    "\n"
   ]
  },
  {
   "cell_type": "code",
   "execution_count": 7,
   "metadata": {},
   "outputs": [],
   "source": [
    "#appending data to the csv and automating the process\n",
    "def check_price():\n",
    "    \n",
    "    URL = 'https://www.amazon.de/Apple-iPhone-14-Pro-256/dp/B0BDJCM1SG/ref=sr_1_2_sspa?crid=2VBVM8UZB511B&keywords=iphone%2B14&qid=1664872886&qu=eyJxc2MiOiI0LjI5IiwicXNhIjoiNC4yMyIsInFzcCI6IjMuMzIifQ&sprefix=iph%2Caps%2C805&sr=8-2-spons&language=en_GB&currency=EUR&th=1'\n",
    "\n",
    "    headers = {\"User-Agent\": \"Mozilla/5.0 (Windows NT 10.0; Win64; x64) AppleWebKit/537.36 (KHTML, like Gecko) Chrome/78.0.3904.108 Safari/537.36\", \"Accept-Encoding\":\"gzip, deflate\", \"Accept\":\"text/html,application/xhtml+xml,application/xml;q=0.9,*/*;q=0.8\", \"DNT\":\"1\",\"Connection\":\"close\", \"Upgrade-Insecure-Requests\":\"1\"}\n",
    "\n",
    "    page = requests.get(URL, headers=headers)\n",
    "\n",
    "    soup1 = BeautifulSoup(page.content, \"html.parser\")\n",
    "\n",
    "    soup2 = BeautifulSoup(soup1.prettify(), \"html.parser\")\n",
    "\n",
    "    product = soup2.find(id='productTitle').get_text()\n",
    "\n",
    "    ratings = soup2.find(id = 'acrCustomerReviewText').get_text()\n",
    "\n",
    "    rating_star = soup2.find(id = 'acrPopover').get_text()\n",
    "\n",
    "    price = soup2.find(id='corePriceDisplay_desktop_feature_div').get_text()\n",
    "    \n",
    "    price = price[price.index('€'):(price.index('€')) + 6]\n",
    "    price = price.strip()[1:]\n",
    "    product = product[product.index('A'):(product.index('('))]\n",
    "    product = product.strip()\n",
    "    ratings =ratings.strip()[:2]\n",
    "    rating_star = rating_star.strip()[:4]\n",
    "    \n",
    "   \n",
    "    import datetime\n",
    "    today = datetime.date.today()\n",
    "    \n",
    "    import csv\n",
    "    \n",
    "    header = ['Product', 'Price', 'Date', 'Ratings', 'Rating_star']\n",
    "    data = [product, price,today, ratings, rating_star]\n",
    "    \n",
    "    with open('amazoniphone14dataset.csv', 'a+', newline = '', encoding = 'UTF8') as f:\n",
    "        writer =  csv.writer(f)\n",
    "        writer.writerow(data)\n",
    "    \n",
    "    \n",
    "\n"
   ]
  },
  {
   "cell_type": "code",
   "execution_count": null,
   "metadata": {},
   "outputs": [],
   "source": []
  }
 ],
 "metadata": {
  "kernelspec": {
   "display_name": "Python 3",
   "language": "python",
   "name": "python3"
  },
  "language_info": {
   "codemirror_mode": {
    "name": "ipython",
    "version": 3
   },
   "file_extension": ".py",
   "mimetype": "text/x-python",
   "name": "python",
   "nbconvert_exporter": "python",
   "pygments_lexer": "ipython3",
   "version": "3.8.5"
  }
 },
 "nbformat": 4,
 "nbformat_minor": 4
}
